{
 "cells": [
  {
   "cell_type": "markdown",
   "metadata": {},
   "source": [
    "# Assignments 3 Numpy\n",
    "\n",
    "## Reference \n",
    "[Numpy assignment](https://gist.github.com/ShibaniOtis/666ebd044d591793f1328f90d6359e79)\n"
   ]
  },
  {
   "cell_type": "code",
   "execution_count": 1,
   "metadata": {},
   "outputs": [],
   "source": [
    "import numpy as np\n",
    "import matplotlib.pyplot as plt"
   ]
  },
  {
   "cell_type": "markdown",
   "metadata": {},
   "source": [
    "# Create a 2D Numpy Array"
   ]
  },
  {
   "cell_type": "code",
   "execution_count": 6,
   "metadata": {},
   "outputs": [
    {
     "name": "stdout",
     "output_type": "stream",
     "text": [
      "(3, 3)\n"
     ]
    }
   ],
   "source": [
    "a = [[11, 12, 13], [21, 22, 23], [31, 32, 33]]\n",
    "\n",
    "# Convert list to Numpy Array\n",
    "# Every element is the same type\n",
    "A = np.array(a)\n",
    "\n",
    "'''\n",
    "print(A)\n",
    "[[11 12 13]\n",
    " [21 22 23]\n",
    " [31 32 33]]\n",
    "'''\n",
    "\n",
    "# Show the numpy array dimensions\n",
    "A.ndim\n",
    "\n",
    "'''\n",
    "print(A.ndim)\n",
    "2\n",
    "'''\n",
    "\n",
    "# Show the numpy array shape\n",
    "A.shape\n",
    "'''\n",
    "print(A.shape)\n",
    "(3,3)\n",
    "'''"
   ]
  }
 ],
 "metadata": {
  "kernelspec": {
   "display_name": "Python 3",
   "language": "python",
   "name": "python3"
  },
  "language_info": {
   "codemirror_mode": {
    "name": "ipython",
    "version": 3
   },
   "file_extension": ".py",
   "mimetype": "text/x-python",
   "name": "python",
   "nbconvert_exporter": "python",
   "pygments_lexer": "ipython3",
   "version": "3.10.13"
  }
 },
 "nbformat": 4,
 "nbformat_minor": 2
}
