{
 "cells": [
  {
   "cell_type": "markdown",
   "id": "89072d83-e239-4db5-81cd-0e60f4a4ba42",
   "metadata": {},
   "source": [
    "# 1. Variable Manipulation"
   ]
  },
  {
   "cell_type": "code",
   "execution_count": 52,
   "id": "604bc3ca-5085-49fd-9504-ca5ab1ba4619",
   "metadata": {},
   "outputs": [
    {
     "name": "stdout",
     "output_type": "stream",
     "text": [
      " Amrit Pandey is born in 2001 of height 172cm is not employed \n"
     ]
    }
   ],
   "source": [
    "birth_year: int = 2001\n",
    "height_cm : int = 172\n",
    "name: str = \"Amrit Pandey\"\n",
    "isEmployed: bool = False\n",
    "\n",
    "print(f\" {name} is born in {birth_year} of height {height_cm}cm is {'employed' if isEmployed else 'not employed'} \") "
   ]
  },
  {
   "cell_type": "markdown",
   "id": "51672868-b66c-4e8c-bf14-1dd48a1ce5e5",
   "metadata": {},
   "source": [
    "# 2. Number Analysis"
   ]
  },
  {
   "cell_type": "code",
   "execution_count": 53,
   "id": "c910264b-5f83-48f7-90ad-ab936ec7741a",
   "metadata": {},
   "outputs": [
    {
     "name": "stdin",
     "output_type": "stream",
     "text": [
      "Enter a number:  29\n"
     ]
    },
    {
     "name": "stdout",
     "output_type": "stream",
     "text": [
      "Odd\n",
      "0\n",
      "2\n",
      "4\n",
      "6\n",
      "8\n",
      "10\n",
      "12\n",
      "14\n",
      "16\n",
      "18\n",
      "20\n",
      "22\n",
      "24\n",
      "26\n",
      "28\n",
      "Sum of total range\n",
      "435\n"
     ]
    }
   ],
   "source": [
    "num: int = int(input(\"Enter a number: \"))\n",
    "print('Even' if num%2 == 0 else 'Odd')\n",
    "\n",
    "for i in range(0, num, 2):\n",
    "    print(i)\n",
    "\n",
    "print(\"Sum of total range\")\n",
    "# print(sum(range(0, num+1, 1))) easy fast method than while or loop\n",
    "\n",
    "# for time calculation\n",
    "# import timeit\n",
    "# timeit.Timer('sum(range(0, 20, 1))').repeat()\n",
    "# sum(x for x in range(100, 2001) if x % 3 == 0) \n",
    "\n",
    "# using while\n",
    "i = 0\n",
    "sum = 0\n",
    "while(i <= num):\n",
    "    sum += i\n",
    "    i += 1\n",
    "\n",
    "print(sum)\n",
    "    "
   ]
  },
  {
   "cell_type": "markdown",
   "id": "f34e6a2c-dcea-4548-b4e8-4a29adf13ea4",
   "metadata": {},
   "source": [
    "# 3. Temperature conversion"
   ]
  },
  {
   "cell_type": "code",
   "execution_count": 148,
   "id": "4134fd37-3dfb-41c4-b7b1-7cb566109040",
   "metadata": {},
   "outputs": [
    {
     "name": "stdout",
     "output_type": "stream",
     "text": [
      "Everything passed\n"
     ]
    }
   ],
   "source": [
    "def cel2far(num: float) -> float:\n",
    "    return (num * 9/5) + 32\n",
    "\n",
    "def far2cel(num: float) -> float:\n",
    "    return (num - 32) * 5/9\n",
    "\n",
    "def test_func():\n",
    "    assert cel2far(23) == 73.4, \"Should be 73.4\"\n",
    "    assert far2cel(50) == 10, \"Should be 10\"\n",
    "\n",
    "if __name__ == \"__main__\":\n",
    "    test_func()\n",
    "    print(\"Everything passed\")\n"
   ]
  },
  {
   "cell_type": "markdown",
   "id": "5a14569d-0293-4666-9203-59f5de249ff2",
   "metadata": {},
   "source": [
    "# 4. Lists and dictionaries"
   ]
  },
  {
   "cell_type": "code",
   "execution_count": 147,
   "id": "d40d54c2-3afe-4553-ba24-65b73609a8e9",
   "metadata": {},
   "outputs": [
    {
     "name": "stdout",
     "output_type": "stream",
     "text": [
      "Apple\n",
      "Ball\n",
      "Cat\n",
      "Dog\n",
      "Elephant\n",
      "Updated list\n",
      "Apple\n",
      "Ball\n",
      "Cat\n",
      "Dog\n",
      "Elephant\n",
      "Fish\n",
      "Goat\n",
      "Horse\n",
      "name: apple, price: 20, stock:100\n",
      "{'name': 'apple', 'price': 20, 'stock': 100, 'discount': 10}\n"
     ]
    }
   ],
   "source": [
    "groceryList = [\"Apple\", \"Ball\", \"Cat\", \"Dog\", \"Elephant\"];\n",
    "\n",
    "for element in groceryList:\n",
    "    print(element)\n",
    "\n",
    "# part 2\n",
    "print(\"Updated list\");\n",
    "# groceryList.extend([\"Fish\", \"Goat\", \"Horse\"]); one way\n",
    "\n",
    "for element in [\"Fish\", \"Goat\", \"Horse\"]:\n",
    "    groceryList.append(element)\n",
    "\n",
    "for element in groceryList:\n",
    "    print(element)\n",
    "\n",
    "# part 3\n",
    "product = {\"name\": \"apple\", \"price\": 20, \"stock\": 100}\n",
    "\n",
    "print(f\"name: { product['name'] }, price: {product['price']}, stock:{product['stock']}\") \n",
    "\n",
    "# part 4\n",
    "product['discount'] = 10\n",
    "print(product)\n",
    "                "
   ]
  },
  {
   "cell_type": "markdown",
   "id": "b3389dc9-2a39-4deb-822b-9fe9ea779bde",
   "metadata": {},
   "source": [
    "# 5. Error Handling"
   ]
  },
  {
   "cell_type": "code",
   "execution_count": 10,
   "id": "dc6e6a0b-d33b-457b-a623-1bb8f3919e55",
   "metadata": {},
   "outputs": [
    {
     "name": "stdin",
     "output_type": "stream",
     "text": [
      "Enter 2 nums:  10 20\n"
     ]
    },
    {
     "name": "stdout",
     "output_type": "stream",
     "text": [
      "amrit Pandey\n",
      "0.5\n"
     ]
    }
   ],
   "source": [
    "def safe_division(num1: int , num2: int) -> float:\n",
    "    try:\n",
    "        return num1/num2\n",
    "    except ZeroDivisionError:\n",
    "        print(\"ZeroDivisionError Occurred and Handled\")\n",
    "    finally:\n",
    "        print(\"amrit Pandey\")\n",
    "\n",
    "# part 3\n",
    "num1, num2 = [int(x) for x in input(\"Enter 2 nums: \").split()]\n",
    "result = safe_division(num1, num2)\n",
    "\n",
    "print(result)"
   ]
  },
  {
   "cell_type": "markdown",
   "id": "80523d91-f1f7-4a29-9fca-a66204182b03",
   "metadata": {},
   "source": [
    "# 6. String"
   ]
  },
  {
   "cell_type": "code",
   "execution_count": 141,
   "id": "62cadffe-a5c6-4136-b5b2-50ab7ef710e3",
   "metadata": {},
   "outputs": [
    {
     "name": "stdout",
     "output_type": "stream",
     "text": [
      "number of words: 4\n",
      "number of vowels: 6\n",
      "number of consonents: 11\n",
      "Everything passed\n"
     ]
    }
   ],
   "source": [
    "sentence = \"Hello i am amrit pandey\"\n",
    "\n",
    "def string_analysis(sentence):\n",
    "    print(f\"number of words: {len(sentence.split())}\")\n",
    "    print(f\"number of vowels: {len([char for char in sentence if char in 'aeiouAEIOU'])}\" )\n",
    "    print(f\"number of consonents: {len([char for char in sentence if char not in 'aeiouAEIOU'])}\" )\n",
    "    nOw = len(sentence.split())\n",
    "    nOv = len([char for char in sentence if char in 'aeiouAEIOU'])\n",
    "    nOc = len([char for char in sentence if char not in 'aeiouAEIOU'])\n",
    "\n",
    "    return [nOw, nOv, nOc]\n",
    "\n",
    "def test_func():\n",
    "    assert string_analysis(\"I am amrit pandey\") == [4, 6, 11], \"Should be [4, 9, 9]\"\n",
    "\n",
    "if __name__ == \"__main__\":\n",
    "    test_func()\n",
    "    print(\"Everything passed\")"
   ]
  },
  {
   "cell_type": "markdown",
   "id": "c21feebe-f8bb-437c-a438-2cf48a53aa96",
   "metadata": {},
   "source": [
    "# 7. File Operations"
   ]
  },
  {
   "cell_type": "code",
   "execution_count": 157,
   "id": "88d74f28-e308-45c5-92df-5d9c707b0ebc",
   "metadata": {},
   "outputs": [
    {
     "name": "stdout",
     "output_type": "stream",
     "text": [
      "words count:  55\n",
      "Lines count:  4\n"
     ]
    }
   ],
   "source": [
    "f = open(\"file.txt\", \"r\")\n",
    "text = f.read()\n",
    "print(\"words count: \", len(text.split()))\n",
    "print(\"Lines count: \", len(text.split('\\n')))\n"
   ]
  },
  {
   "cell_type": "markdown",
   "id": "53f772ca-4a10-4944-9bde-b5d26103939e",
   "metadata": {},
   "source": [
    "# 8. Classes"
   ]
  },
  {
   "cell_type": "code",
   "execution_count": 163,
   "id": "77ba2a4a-c194-420f-bbeb-496cb9bf3824",
   "metadata": {},
   "outputs": [
    {
     "name": "stdout",
     "output_type": "stream",
     "text": [
      "Name: John, Age: 36, Email: hello@gmail.com\n"
     ]
    }
   ],
   "source": [
    "class Person:\n",
    "  def __init__(self, name, age, email):\n",
    "    self.name = name\n",
    "    self.age = age\n",
    "    self.email = email\n",
    "\n",
    "  def display_info(self):\n",
    "     print(f\"Name: {self.name}, Age: {self.age}, Email: {self.email}\")\n",
    "     \n",
    "p1 = Person(\"John\", 36, \"hello@gmail.com\")\n",
    "\n",
    "p1.display_info()"
   ]
  },
  {
   "cell_type": "markdown",
   "id": "b4b34e99-6701-4148-bc1f-e63d3d71c3a7",
   "metadata": {},
   "source": [
    "# 9. Math utilites"
   ]
  },
  {
   "cell_type": "code",
   "execution_count": 2,
   "id": "0ef8ce30-39f8-4745-936e-07cc0fa74516",
   "metadata": {},
   "outputs": [
    {
     "name": "stdout",
     "output_type": "stream",
     "text": [
      "120\n",
      "6\n",
      "36\n"
     ]
    }
   ],
   "source": [
    "import mathModule\n",
    "\n",
    "fac = mathModule.factorial(5)\n",
    "print(fac)\n",
    "\n",
    "gcd = mathModule.gcd(48, 18)\n",
    "print(gcd)\n",
    "\n",
    "lcm = mathModule.lcm(12, 18)\n",
    "print(lcm)"
   ]
  },
  {
   "cell_type": "markdown",
   "id": "7d43c2bd-43cd-4dbd-9c04-97e761d74688",
   "metadata": {},
   "source": [
    "# 10. Regular Expression"
   ]
  },
  {
   "cell_type": "code",
   "execution_count": 11,
   "id": "c8bf8802-7775-4c22-bdaf-c14326c2cc15",
   "metadata": {},
   "outputs": [
    {
     "name": "stdout",
     "output_type": "stream",
     "text": [
      "Valid email\n",
      "Valid email\n",
      "Invalid email\n",
      "Invalid email\n",
      "Invalid email\n",
      "Everything passed\n"
     ]
    }
   ],
   "source": [
    "import re\n",
    "\n",
    "def validateEmail(email: str):\n",
    "    email_regex = r'^[a-zA-Z0-9._%+-]+@[a-zA-Z0-9.-]+\\.[a-zA-Z]{2,}$'\n",
    "    \n",
    "    if re.match(email_regex, email):\n",
    "        print(\"Valid email\")\n",
    "        return True\n",
    "    else:\n",
    "        print(\"Invalid email\")\n",
    "        return False\n",
    "\n",
    "def test_func():\n",
    "    assert validateEmail(\"mark193@clearout.io\") == True, \"Should be True\"\n",
    "    assert validateEmail(\"john.doe@socialfrontier.com\") == True, \"Should be True\"\n",
    "    assert validateEmail(\"@clearout.io\") == False, \"Should be False\"\n",
    "    assert validateEmail(\"MaryLopez12@.com \") == False, \"Should be False\"\n",
    "    assert validateEmail(\"John.doesocialfrontier.com\") == False, \"Should be False\"\n",
    "    \n",
    "if __name__ == \"__main__\":\n",
    "    test_func()\n",
    "    print(\"Everything passed\")\n"
   ]
  },
  {
   "cell_type": "markdown",
   "id": "b6e52b93-2a1b-4a21-a497-4dbabe1a1a1a",
   "metadata": {},
   "source": [
    "# 11. Recursion"
   ]
  },
  {
   "cell_type": "code",
   "execution_count": 14,
   "id": "19856653-18ad-4bc7-834f-84733de43d5b",
   "metadata": {},
   "outputs": [
    {
     "name": "stdout",
     "output_type": "stream",
     "text": [
      "15\n"
     ]
    }
   ],
   "source": [
    "def recursiveSum(n):\n",
    "    if(n > 0):\n",
    "        if n == 0:\n",
    "            return 0\n",
    "        elif n == 1:\n",
    "            return 1\n",
    "        else :\n",
    "            return n + recursiveSum(n - 1)\n",
    "\n",
    "print(recursiveSum(5)) # 15"
   ]
  },
  {
   "cell_type": "markdown",
   "id": "8637b1e6-6bff-4ce6-bddc-bdbe310ed9bf",
   "metadata": {},
   "source": [
    "# 12. List Comprehension"
   ]
  },
  {
   "cell_type": "code",
   "execution_count": 5,
   "id": "8d5f6787-62ba-4ec5-b257-b2df5a548141",
   "metadata": {},
   "outputs": [
    {
     "name": "stdout",
     "output_type": "stream",
     "text": [
      "[1, 2, 3, 4, 5, 6, 7, 8, 9, 10, 11, 12, 13, 14, 15, 16, 17, 18, 19, 20]\n",
      "[1, 4, 9, 16, 25, 36, 49, 64, 81, 100, 121, 144, 169, 196, 225, 256, 289, 324, 361, 400]\n"
     ]
    }
   ],
   "source": [
    "numList = [x for x in range(1, 21)]\n",
    "print(numList)\n",
    "\n",
    "# part 2 \n",
    "newList = [x*x for x in range(1, 21)]\n",
    "print(newList)"
   ]
  },
  {
   "cell_type": "markdown",
   "id": "bded4704-92f2-4bc1-85e0-d6d11aa63b3b",
   "metadata": {},
   "source": [
    "# 13. Lamda Function"
   ]
  },
  {
   "cell_type": "code",
   "execution_count": 27,
   "id": "662fc0d9-421c-4b1d-ae17-b36bd0f8c088",
   "metadata": {},
   "outputs": [
    {
     "name": "stdout",
     "output_type": "stream",
     "text": [
      "[('Ram', 20), ('sham', 27), ('amrit', 12), ('kushal', 25)]\n",
      "After sorting\n",
      "[('amrit', 12), ('Ram', 20), ('kushal', 25), ('sham', 27)]\n"
     ]
    }
   ],
   "source": [
    "list = [(\"Ram\", 20),(\"sham\", 27), (\"amrit\",12), (\"kushal\", 25)]\n",
    "print(list)\n",
    "\n",
    "print(\"After sorting\")\n",
    "list.sort(key=lambda x: x[1])\n",
    "print(list) "
   ]
  },
  {
   "cell_type": "markdown",
   "id": "e51849d4-ca1c-4087-9430-af0430470e95",
   "metadata": {},
   "source": [
    "# 14. Decorators"
   ]
  },
  {
   "cell_type": "code",
   "execution_count": 45,
   "id": "ede7d505-643d-483e-acd1-28ed73ddb159",
   "metadata": {},
   "outputs": [
    {
     "name": "stdout",
     "output_type": "stream",
     "text": [
      "49999995000000\n",
      "recursiveSum took 0.391359806060791 sec to complete\n"
     ]
    }
   ],
   "source": [
    "import time\n",
    "\n",
    "def execution_time(func):\n",
    "    def wrapper(n):\n",
    "        t1 = time.time()\n",
    "        func(n)\n",
    "        t2 = time.time() - t1\n",
    "        print(f'{func.__name__} took {t2} sec to complete')\n",
    "    return wrapper\n",
    "\n",
    "@execution_time\n",
    "def recursiveSum(n):\n",
    "    sum = 0\n",
    "    for i in range(n):\n",
    "        sum += i\n",
    "    print(sum)\n",
    "\n",
    "recursiveSum(10000000)\n",
    "\n",
    "# i tried to use this usig decorator with recursive func its not working"
   ]
  },
  {
   "cell_type": "markdown",
   "id": "bb24a918-32f1-4ece-9668-5924893d79ca",
   "metadata": {},
   "source": [
    "# 15. Comprehension and Generator"
   ]
  },
  {
   "cell_type": "code",
   "execution_count": 49,
   "id": "0da36206-62f5-41df-b8d2-c6d412a30344",
   "metadata": {},
   "outputs": [
    {
     "name": "stdout",
     "output_type": "stream",
     "text": [
      "2\n",
      "3\n",
      "5\n",
      "7\n",
      "11\n",
      "13\n",
      "17\n",
      "19\n",
      "23\n",
      "29\n"
     ]
    }
   ],
   "source": [
    "limit = 10 # meaning 10 prime no starting from 0\n",
    "import sympy\n",
    "\n",
    "def isPrime(n):\n",
    "    if sympy.isprime(n):\n",
    "        return True\n",
    "    else:\n",
    "        return False\n",
    "    \n",
    "def prime_generator():\n",
    "    n = 2\n",
    "    while True:\n",
    "        if isPrime(n):\n",
    "            yield n\n",
    "        n += 1\n",
    "    \n",
    "primes = prime_generator()\n",
    "\n",
    "# for printing 10 prime number starting from 0\n",
    "for _ in range(limit):\n",
    "    print(next(primes))\n",
    "    "
   ]
  }
 ],
 "metadata": {
  "kernelspec": {
   "display_name": "Python 3 (ipykernel)",
   "language": "python",
   "name": "python3"
  },
  "language_info": {
   "codemirror_mode": {
    "name": "ipython",
    "version": 3
   },
   "file_extension": ".py",
   "mimetype": "text/x-python",
   "name": "python",
   "nbconvert_exporter": "python",
   "pygments_lexer": "ipython3",
   "version": "3.11.7"
  }
 },
 "nbformat": 4,
 "nbformat_minor": 5
}
